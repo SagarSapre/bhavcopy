{
 "cells": [
  {
   "cell_type": "code",
   "execution_count": 3,
   "metadata": {},
   "outputs": [],
   "source": [
    "import pandas as pd\n",
    "import bhavcopy as bhav\n"
   ]
  },
  {
   "cell_type": "code",
   "execution_count": 38,
   "metadata": {},
   "outputs": [],
   "source": [
    "day=bhav.day\n",
    "month=bhav.month\n",
    "year=bhav.year"
   ]
  },
  {
   "cell_type": "code",
   "execution_count": 39,
   "metadata": {},
   "outputs": [],
   "source": [
    "file_name = f'C:\\\\Users\\\\Ryzen\\\\python\\\\StockTracker\\\\bhavcopy\\\\downloads\\\\cm{day}{month}{year}bhav.csv'"
   ]
  },
  {
   "cell_type": "code",
   "execution_count": 40,
   "metadata": {},
   "outputs": [],
   "source": [
    "df=pd.read_csv(file_name)"
   ]
  },
  {
   "cell_type": "code",
   "execution_count": 41,
   "metadata": {},
   "outputs": [
    {
     "data": {
      "text/plain": [
       "<bound method NDFrame.head of           SYMBOL SERIES     OPEN     HIGH      LOW    CLOSE     LAST   \n",
       "0     1018GS2026     GS   119.70   119.70   112.88   116.00   116.00  \\\n",
       "1     182D010623     TB    99.70    99.70    99.70    99.70    99.70   \n",
       "2     182D080623     TB    99.50    99.50    99.50    99.50    99.50   \n",
       "3     182D161123     TB    96.60    96.60    96.60    96.60    96.60   \n",
       "4     182D250523     TB    99.03    99.03    99.03    99.03    99.03   \n",
       "...          ...    ...      ...      ...      ...      ...      ...   \n",
       "2371        ZOTA     EQ   279.10   281.90   277.50   278.15   278.95   \n",
       "2372       ZUARI     EQ   132.55   134.40   130.60   132.10   132.10   \n",
       "2373    ZUARIIND     EQ   126.45   127.75   124.20   125.00   124.60   \n",
       "2374   ZYDUSLIFE     EQ   511.00   514.75   491.45   494.70   497.65   \n",
       "2375   ZYDUSWELL     EQ  1482.45  1484.50  1451.00  1464.45  1462.00   \n",
       "\n",
       "      PREVCLOSE  TOTTRDQTY     TOTTRDVAL    TIMESTAMP  TOTALTRADES   \n",
       "0        118.80        175  2.081065e+04  19-MAY-2023            6  \\\n",
       "1         99.25       8500  8.474500e+05  19-MAY-2023            2   \n",
       "2         99.50       1000  9.950000e+04  19-MAY-2023            1   \n",
       "3         96.65        100  9.660000e+03  19-MAY-2023            1   \n",
       "4         98.92        100  9.903000e+03  19-MAY-2023            1   \n",
       "...         ...        ...           ...          ...          ...   \n",
       "2371     277.85       7691  2.148527e+06  19-MAY-2023          296   \n",
       "2372     132.25      52311  6.913430e+06  19-MAY-2023          994   \n",
       "2373     125.85      10044  1.258657e+06  19-MAY-2023          265   \n",
       "2374     508.05    3144835  1.566951e+09  19-MAY-2023        41775   \n",
       "2375    1475.05      16005  2.341487e+07  19-MAY-2023         3567   \n",
       "\n",
       "              ISIN  Unnamed: 13  \n",
       "0     IN0020010081          NaN  \n",
       "1     IN002022Y369          NaN  \n",
       "2     IN002022Y377          NaN  \n",
       "3     IN002023Y078          NaN  \n",
       "4     IN002022Y351          NaN  \n",
       "...            ...          ...  \n",
       "2371  INE358U01012          NaN  \n",
       "2372  INE840M01016          NaN  \n",
       "2373  INE217A01012          NaN  \n",
       "2374  INE010B01027          NaN  \n",
       "2375  INE768C01010          NaN  \n",
       "\n",
       "[2376 rows x 14 columns]>"
      ]
     },
     "execution_count": 41,
     "metadata": {},
     "output_type": "execute_result"
    }
   ],
   "source": [
    "df.head"
   ]
  },
  {
   "cell_type": "code",
   "execution_count": null,
   "metadata": {},
   "outputs": [],
   "source": []
  }
 ],
 "metadata": {
  "kernelspec": {
   "display_name": "venv",
   "language": "python",
   "name": "python3"
  },
  "language_info": {
   "codemirror_mode": {
    "name": "ipython",
    "version": 3
   },
   "file_extension": ".py",
   "mimetype": "text/x-python",
   "name": "python",
   "nbconvert_exporter": "python",
   "pygments_lexer": "ipython3",
   "version": "3.11.3"
  },
  "orig_nbformat": 4
 },
 "nbformat": 4,
 "nbformat_minor": 2
}

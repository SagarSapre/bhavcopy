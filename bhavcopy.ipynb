{
 "cells": [
  {
   "cell_type": "code",
   "execution_count": 48,
   "metadata": {},
   "outputs": [],
   "source": [
    "import requests\n",
    "from zipfile import ZipFile\n",
    "import datetime as dt\n",
    "import os"
   ]
  },
  {
   "cell_type": "code",
   "execution_count": 50,
   "metadata": {},
   "outputs": [
    {
     "data": {
      "text/plain": [
       "('19', 'MAY', '2023')"
      ]
     },
     "execution_count": 50,
     "metadata": {},
     "output_type": "execute_result"
    }
   ],
   "source": [
    "ct = dt.datetime.today()\n",
    "day= ct.strftime(\"%d\") \n",
    "day=str(int(day)-2) #today is sunday\n",
    "month= ct.strftime(\"%b\").upper()\n",
    "year= ct.strftime(\"%Y\")\n",
    "day,month,year"
   ]
  },
  {
   "cell_type": "code",
   "execution_count": null,
   "metadata": {},
   "outputs": [],
   "source": [
    "'''\n",
    "year = 2023 # YYYY format\n",
    "month= 'MAY' # MMM format\n",
    "day= 19 # DD format\n",
    "'''"
   ]
  },
  {
   "cell_type": "code",
   "execution_count": 51,
   "metadata": {},
   "outputs": [],
   "source": [
    "url= f'https://archives.nseindia.com/content/historical/EQUITIES/{year}/{month}/cm{day}{month}{year}bhav.csv.zip'\n",
    "headers = {'User-Agent': 'Mozilla/5.0 (Macintosh; Intel Mac OS X 10_10_1) AppleWebKit/537.36 (KHTML, like Gecko) Chrome/39.0.2171.95 Safari/537.36'}\n",
    "response = requests.get(url, headers=headers)"
   ]
  },
  {
   "cell_type": "code",
   "execution_count": 52,
   "metadata": {},
   "outputs": [],
   "source": [
    "def downloadfile():\n",
    "    file_name = f'C:\\\\Users\\\\Ryzen\\\\python\\\\StockTracker\\\\bhavcopy\\\\downloads\\\\cm{day}{month}{year}bhav.csv.zip'\n",
    "    r = requests.get(url,headers=headers,stream=True)\n",
    "    with open(file_name, 'wb') as f:\n",
    "        for chunk in r.iter_content():\n",
    "            f.write(chunk)"
   ]
  },
  {
   "cell_type": "code",
   "execution_count": 53,
   "metadata": {},
   "outputs": [],
   "source": [
    "def unzipfile():\n",
    "    file=f'C:\\\\Users\\\\Ryzen\\python\\\\StockTracker\\\\bhavcopy\\\\downloads\\\\cm{day}{month}{year}bhav.csv.zip'\n",
    "    handle=ZipFile(file)\n",
    "    handle.extractall('C:\\\\Users\\\\Ryzen\\\\python\\\\StockTracker\\\\bhavcopy\\\\downloads')\n",
    "    handle.close()\n"
   ]
  },
  {
   "cell_type": "code",
   "execution_count": 54,
   "metadata": {},
   "outputs": [],
   "source": [
    "def deletezipfile():\n",
    "    file = f\"cm{day}{month}{year}bhav.csv.zip\"  \n",
    "    location = \"C:/Users/Ryzen/python/StockTracker/bhavcopy/downloads\"\n",
    "    path = os.path.join(location, file)  \n",
    "    print(path)\n",
    "    os.remove(path)"
   ]
  },
  {
   "cell_type": "code",
   "execution_count": 55,
   "metadata": {},
   "outputs": [
    {
     "name": "stdout",
     "output_type": "stream",
     "text": [
      "C:/Users/Ryzen/python/StockTracker/bhavcopy/downloads\\cm19MAY2023bhav.csv.zip\n"
     ]
    }
   ],
   "source": [
    "if __name__ == \"__main__\":\n",
    "    downloadfile()\n",
    "    unzipfile()\n",
    "    deletezipfile()\n"
   ]
  },
  {
   "cell_type": "code",
   "execution_count": null,
   "metadata": {},
   "outputs": [],
   "source": []
  }
 ],
 "metadata": {
  "kernelspec": {
   "display_name": "venv",
   "language": "python",
   "name": "python3"
  },
  "language_info": {
   "codemirror_mode": {
    "name": "ipython",
    "version": 3
   },
   "file_extension": ".py",
   "mimetype": "text/x-python",
   "name": "python",
   "nbconvert_exporter": "python",
   "pygments_lexer": "ipython3",
   "version": "3.11.3"
  },
  "orig_nbformat": 4
 },
 "nbformat": 4,
 "nbformat_minor": 2
}
